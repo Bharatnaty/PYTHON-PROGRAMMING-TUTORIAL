{
 "cells": [
  {
   "cell_type": "markdown",
   "id": "6e5e8c0f",
   "metadata": {},
   "source": [
    "# PYTHON"
   ]
  },
  {
   "cell_type": "markdown",
   "id": "1bd15f10",
   "metadata": {},
   "source": [
    "# LOGIC <br>\n",
    "1. and <br>\n",
    "2. or <br>\n",
    "3.not <br>"
   ]
  },
  {
   "cell_type": "code",
   "execution_count": 16,
   "id": "35289c88",
   "metadata": {},
   "outputs": [
    {
     "name": "stdout",
     "output_type": "stream",
     "text": [
      "False\n",
      "True\n"
     ]
    }
   ],
   "source": [
    "# and\n",
    "print((1==1) and (1==2))   #true(1) * false(0)= 0\n",
    "\n",
    "print((1==1) and (1==1))   #true(1)  * treu(1) =1"
   ]
  },
  {
   "cell_type": "code",
   "execution_count": 17,
   "id": "b4a77118",
   "metadata": {},
   "outputs": [
    {
     "name": "stdout",
     "output_type": "stream",
     "text": [
      "True\n",
      "True\n",
      "False\n"
     ]
    }
   ],
   "source": [
    "# or \n",
    "print((1==1) or (1==2))   #true(1) + false(0)= 1\n",
    "\n",
    "print((1==1) or (1==1))   #true(1)  + treu(1) =1\n",
    "\n",
    "print((1==2) or (1==3))   # fasle(0) + false(0) =0"
   ]
  },
  {
   "cell_type": "code",
   "execution_count": 18,
   "id": "2873b753",
   "metadata": {},
   "outputs": [
    {
     "name": "stdout",
     "output_type": "stream",
     "text": [
      "True\n"
     ]
    }
   ],
   "source": [
    "# not\n",
    "print(not 1==2)"
   ]
  },
  {
   "cell_type": "code",
   "execution_count": 20,
   "id": "7fc4083e",
   "metadata": {},
   "outputs": [
    {
     "name": "stdout",
     "output_type": "stream",
     "text": [
      "NOT SATISFIED\n"
     ]
    }
   ],
   "source": [
    "if ((1<5) and (10<2)):    #true(1) * false(0) =0\n",
    "    print(\"SATISFIED\")\n",
    "else:\n",
    "    print(\"NOT SATISFIED\")"
   ]
  },
  {
   "cell_type": "code",
   "execution_count": null,
   "id": "6e648658",
   "metadata": {},
   "outputs": [],
   "source": []
  }
 ],
 "metadata": {
  "kernelspec": {
   "display_name": "Python 3 (ipykernel)",
   "language": "python",
   "name": "python3"
  },
  "language_info": {
   "codemirror_mode": {
    "name": "ipython",
    "version": 3
   },
   "file_extension": ".py",
   "mimetype": "text/x-python",
   "name": "python",
   "nbconvert_exporter": "python",
   "pygments_lexer": "ipython3",
   "version": "3.9.7"
  }
 },
 "nbformat": 4,
 "nbformat_minor": 5
}
