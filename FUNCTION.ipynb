{
 "cells": [
  {
   "cell_type": "markdown",
   "id": "6e5e8c0f",
   "metadata": {},
   "source": [
    "# PYTHON"
   ]
  },
  {
   "cell_type": "markdown",
   "id": "b1863195",
   "metadata": {},
   "source": [
    "# FUNCTION"
   ]
  },
  {
   "cell_type": "code",
   "execution_count": null,
   "id": "6dc8c405",
   "metadata": {},
   "outputs": [],
   "source": [
    "def add():\n",
    "    print(\"BHARAT\")\n",
    "    \n",
    "add()"
   ]
  },
  {
   "cell_type": "code",
   "execution_count": null,
   "id": "fba9d7cd",
   "metadata": {},
   "outputs": [],
   "source": []
  },
  {
   "cell_type": "code",
   "execution_count": null,
   "id": "28a77cc9",
   "metadata": {},
   "outputs": [],
   "source": [
    "def add(x,y):\n",
    "    return x+y\n",
    "add(5,10)"
   ]
  },
  {
   "cell_type": "code",
   "execution_count": null,
   "id": "3ca74045",
   "metadata": {},
   "outputs": [],
   "source": []
  },
  {
   "cell_type": "code",
   "execution_count": 14,
   "id": "4b873b8a",
   "metadata": {},
   "outputs": [
    {
     "data": {
      "text/plain": [
       "30"
      ]
     },
     "execution_count": 14,
     "metadata": {},
     "output_type": "execute_result"
    }
   ],
   "source": [
    "def add(x,y):\n",
    "    return x+y\n",
    "def do_twice(func,x,y):\n",
    "    return func(func(x,y),func(x,y))\n",
    "a=5\n",
    "b=10\n",
    "do_twice(add,a,b)"
   ]
  },
  {
   "cell_type": "code",
   "execution_count": null,
   "id": "0f3b59cd",
   "metadata": {},
   "outputs": [],
   "source": []
  },
  {
   "cell_type": "code",
   "execution_count": null,
   "id": "75983d05",
   "metadata": {},
   "outputs": [],
   "source": []
  },
  {
   "cell_type": "code",
   "execution_count": null,
   "id": "c3f179ce",
   "metadata": {},
   "outputs": [],
   "source": []
  },
  {
   "cell_type": "code",
   "execution_count": null,
   "id": "0c60660f",
   "metadata": {},
   "outputs": [],
   "source": []
  },
  {
   "cell_type": "code",
   "execution_count": null,
   "id": "4ea671fe",
   "metadata": {},
   "outputs": [],
   "source": []
  },
  {
   "cell_type": "markdown",
   "id": "45b7edd4",
   "metadata": {},
   "source": [
    "# create calling function"
   ]
  },
  {
   "cell_type": "code",
   "execution_count": null,
   "id": "9ae2f450",
   "metadata": {},
   "outputs": [],
   "source": [
    "def add(x,y):\n",
    "    return x+y\n",
    "\n",
    "add(5,10)"
   ]
  },
  {
   "cell_type": "markdown",
   "id": "78322eb7",
   "metadata": {},
   "source": [
    "# ONEMARK"
   ]
  },
  {
   "cell_type": "code",
   "execution_count": null,
   "id": "3f019e51",
   "metadata": {},
   "outputs": [],
   "source": [
    "1. d)def\n",
    "2. c) function"
   ]
  }
 ],
 "metadata": {
  "kernelspec": {
   "display_name": "Python 3 (ipykernel)",
   "language": "python",
   "name": "python3"
  },
  "language_info": {
   "codemirror_mode": {
    "name": "ipython",
    "version": 3
   },
   "file_extension": ".py",
   "mimetype": "text/x-python",
   "name": "python",
   "nbconvert_exporter": "python",
   "pygments_lexer": "ipython3",
   "version": "3.9.7"
  }
 },
 "nbformat": 4,
 "nbformat_minor": 5
}
