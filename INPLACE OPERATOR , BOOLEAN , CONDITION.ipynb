{
 "cells": [
  {
   "cell_type": "markdown",
   "id": "6e5e8c0f",
   "metadata": {},
   "source": [
    "# PYTHON"
   ]
  },
  {
   "cell_type": "markdown",
   "id": "1e7264ee",
   "metadata": {},
   "source": [
    "# INPLACE OPERATOR"
   ]
  },
  {
   "cell_type": "code",
   "execution_count": 2,
   "id": "8d281e52",
   "metadata": {},
   "outputs": [
    {
     "name": "stdout",
     "output_type": "stream",
     "text": [
      "Normal 5\n",
      "inplace 10\n"
     ]
    }
   ],
   "source": [
    "x=0                             # Memory space more ,reduce readability \n",
    "\n",
    "# Normal operator\n",
    "x=x+5\n",
    "print(\"Normal\",x)\n",
    "\n",
    "# inplace operator\n",
    "x+=5\n",
    "print(\"inplace\",x)"
   ]
  },
  {
   "cell_type": "markdown",
   "id": "d49d54f1",
   "metadata": {},
   "source": [
    "# Boolean"
   ]
  },
  {
   "cell_type": "code",
   "execution_count": 3,
   "id": "5c3e2815",
   "metadata": {
    "scrolled": true
   },
   "outputs": [
    {
     "name": "stdout",
     "output_type": "stream",
     "text": [
      "LESSER 5<10: True\n",
      "GREATER 10>5: True\n",
      "EQUAL 5==5: True\n",
      "NOT EQUAL 5!=5: False\n",
      "False\n"
     ]
    }
   ],
   "source": [
    "# < , > , == ,!=\n",
    "\n",
    "print(\"LESSER 5<10:\",5<10)\n",
    "\n",
    "print(\"GREATER 10>5:\",10>5)\n",
    "\n",
    "print(\"EQUAL 5==5:\",5==5)\n",
    "\n",
    "print(\"NOT EQUAL 5!=5:\",5!=5)\n",
    "\n",
    "print(5<=4)"
   ]
  },
  {
   "cell_type": "markdown",
   "id": "47dac9a1",
   "metadata": {},
   "source": [
    "# if / elif"
   ]
  },
  {
   "attachments": {
    "if-else.png": {
     "image/png": "[encoded data removed]"
    }
   },
   "cell_type": "markdown",
   "id": "c11d2796",
   "metadata": {},
   "source": [
    "![if-else.png](attachment:if-else.png)"
   ]
  },
  {
   "cell_type": "code",
   "execution_count": 5,
   "id": "db405ef0",
   "metadata": {},
   "outputs": [
    {
     "name": "stdout",
     "output_type": "stream",
     "text": [
      "Y is greater value\n"
     ]
    }
   ],
   "source": [
    "x=5\n",
    "y=10\n",
    "if (50 < 10):\n",
    "    print(\"X is lesser value\")\n",
    "else:\n",
    "    print(\"Y is greater value\")"
   ]
  },
  {
   "cell_type": "markdown",
   "id": "08814930",
   "metadata": {},
   "source": [
    "# EXAMPLE"
   ]
  },
  {
   "cell_type": "code",
   "execution_count": 6,
   "id": "17d65083",
   "metadata": {},
   "outputs": [
    {
     "name": "stdout",
     "output_type": "stream",
     "text": [
      "5\n",
      "X less than Y  11\n"
     ]
    }
   ],
   "source": [
    "x=int(input())\n",
    "y=10\n",
    "z=12\n",
    "\n",
    "if(x < y):\n",
    "    y+=1\n",
    "    print(\"X less than Y \",y)\n",
    "    \n",
    "elif(x < z):\n",
    "    z+=1\n",
    "    print(\"X less than Z \",z)\n",
    "\n",
    "else:\n",
    "    x+=1\n",
    "    print(\"X is graeter value \",x)"
   ]
  },
  {
   "cell_type": "code",
   "execution_count": null,
   "id": "e32b9854",
   "metadata": {},
   "outputs": [],
   "source": []
  }
 ],
 "metadata": {
  "kernelspec": {
   "display_name": "Python 3 (ipykernel)",
   "language": "python",
   "name": "python3"
  },
  "language_info": {
   "codemirror_mode": {
    "name": "ipython",
    "version": 3
   },
   "file_extension": ".py",
   "mimetype": "text/x-python",
   "name": "python",
   "nbconvert_exporter": "python",
   "pygments_lexer": "ipython3",
   "version": "3.9.7"
  }
 },
 "nbformat": 4,
 "nbformat_minor": 5
}
