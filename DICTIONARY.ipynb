{
 "cells": [
  {
   "cell_type": "markdown",
   "id": "6e5e8c0f",
   "metadata": {},
   "source": [
    "# PYTHON"
   ]
  },
  {
   "cell_type": "markdown",
   "id": "b1863195",
   "metadata": {},
   "source": [
    "# DICTIONARY"
   ]
  },
  {
   "cell_type": "code",
   "execution_count": 11,
   "id": "4ea671fe",
   "metadata": {},
   "outputs": [
    {
     "data": {
      "text/plain": [
       "{'A': 1, 'C': 3, 'B': 2}"
      ]
     },
     "execution_count": 11,
     "metadata": {},
     "output_type": "execute_result"
    }
   ],
   "source": [
    "a = {\"A\":1,\"C\":3,\"B\":2} \n",
    "a"
   ]
  },
  {
   "cell_type": "markdown",
   "id": "a7996eb0",
   "metadata": {},
   "source": [
    "# ADDING ELEMENTS TO DICTIONARY"
   ]
  },
  {
   "cell_type": "code",
   "execution_count": 12,
   "id": "25bea2a6",
   "metadata": {},
   "outputs": [
    {
     "name": "stdout",
     "output_type": "stream",
     "text": [
      "{'A': 1, 'C': 3, 'B': 2, 'D': 10}\n"
     ]
    }
   ],
   "source": [
    "a[\"D\"]=10\n",
    "print(a)"
   ]
  },
  {
   "cell_type": "markdown",
   "id": "8c1bdad5",
   "metadata": {},
   "source": [
    "# NESTED DICTIONARY"
   ]
  },
  {
   "cell_type": "code",
   "execution_count": 13,
   "id": "514c7309",
   "metadata": {},
   "outputs": [
    {
     "name": "stdout",
     "output_type": "stream",
     "text": [
      "{1: 'Geeks', 2: 'For', 3: {'A': 'Welcome', 'B': 'To', 'C': 'Geeks'}}\n"
     ]
    }
   ],
   "source": [
    "Dict = {1: 'Geeks', 2: 'For',\n",
    "        3:{'A' : 'Welcome', 'B' : 'To', 'C' : 'Geeks'}}\n",
    " \n",
    "print(Dict)"
   ]
  },
  {
   "cell_type": "markdown",
   "id": "68a6e9d0",
   "metadata": {},
   "source": [
    "# ACCESS THE NESTED ELEMENTS"
   ]
  },
  {
   "cell_type": "code",
   "execution_count": 15,
   "id": "853b3aee",
   "metadata": {},
   "outputs": [
    {
     "data": {
      "text/plain": [
       "'Geeks'"
      ]
     },
     "execution_count": 15,
     "metadata": {},
     "output_type": "execute_result"
    }
   ],
   "source": [
    "Dict[3][\"C\"]"
   ]
  },
  {
   "cell_type": "markdown",
   "id": "d72a4f1a",
   "metadata": {},
   "source": [
    "# MANIPULATE THE DICTIONARY VALUE"
   ]
  },
  {
   "cell_type": "code",
   "execution_count": 16,
   "id": "a7e09be1",
   "metadata": {},
   "outputs": [
    {
     "data": {
      "text/plain": [
       "{'A': 5, 'C': 3, 'B': 2}"
      ]
     },
     "execution_count": 16,
     "metadata": {},
     "output_type": "execute_result"
    }
   ],
   "source": [
    "a = {\"A\":1,\"C\":3,\"B\":2} \n",
    "a[\"A\"]=5\n",
    "a"
   ]
  },
  {
   "cell_type": "markdown",
   "id": "f1eb493d",
   "metadata": {},
   "source": [
    "# FOR-LOOP"
   ]
  },
  {
   "cell_type": "code",
   "execution_count": 17,
   "id": "3778931f",
   "metadata": {},
   "outputs": [
    {
     "name": "stdout",
     "output_type": "stream",
     "text": [
      "{'A': 5, 'C': 3, 'B': 2}\n",
      "A and 5\n",
      "C and 3\n",
      "B and 2\n"
     ]
    }
   ],
   "source": [
    "print(a)\n",
    "for key,value in a.items():\n",
    "    print(str(key)+\" and \"+str(value))"
   ]
  },
  {
   "cell_type": "markdown",
   "id": "ddeb5489",
   "metadata": {},
   "source": [
    "# PRE-DEFINED FUNCTION"
   ]
  },
  {
   "cell_type": "code",
   "execution_count": 18,
   "id": "c7b3f73f",
   "metadata": {},
   "outputs": [
    {
     "name": "stdout",
     "output_type": "stream",
     "text": [
      "get() FUNCTION 5\n",
      "pop() FUNCTION 5\n",
      "len() FUNCTION 2\n"
     ]
    }
   ],
   "source": [
    "print(\"get() FUNCTION\",a.get(\"A\"))\n",
    "print(\"pop() FUNCTION\",a.pop(\"A\"))\n",
    "print(\"len() FUNCTION\",len(a))"
   ]
  },
  {
   "cell_type": "code",
   "execution_count": null,
   "id": "80f6ab1c",
   "metadata": {},
   "outputs": [],
   "source": []
  },
  {
   "cell_type": "code",
   "execution_count": null,
   "id": "b7c6dc5c",
   "metadata": {},
   "outputs": [],
   "source": []
  },
  {
   "cell_type": "markdown",
   "id": "45b7edd4",
   "metadata": {},
   "source": [
    "# WRITE PYTHON PROGRAM TO DICTIONARY"
   ]
  },
  {
   "cell_type": "code",
   "execution_count": 2,
   "id": "8a6d99f4",
   "metadata": {},
   "outputs": [
    {
     "name": "stdout",
     "output_type": "stream",
     "text": [
      "A and 1\n",
      "C and 3\n",
      "B and 2\n"
     ]
    }
   ],
   "source": [
    "a = {\"A\":1,\"C\":3,\"B\":2} \n",
    "for key,value in a.items():\n",
    "    print(key+\" and \"+str(value))"
   ]
  },
  {
   "cell_type": "code",
   "execution_count": null,
   "id": "14794fef",
   "metadata": {},
   "outputs": [],
   "source": []
  },
  {
   "cell_type": "code",
   "execution_count": null,
   "id": "c53ed3f3",
   "metadata": {},
   "outputs": [],
   "source": []
  },
  {
   "cell_type": "markdown",
   "id": "78322eb7",
   "metadata": {},
   "source": [
    "# ONEMARK"
   ]
  },
  {
   "cell_type": "code",
   "execution_count": null,
   "id": "3f019e51",
   "metadata": {},
   "outputs": [],
   "source": [
    "1.  d) All the above\n",
    "2.  a) True"
   ]
  },
  {
   "cell_type": "code",
   "execution_count": null,
   "id": "31eff973",
   "metadata": {},
   "outputs": [],
   "source": []
  }
 ],
 "metadata": {
  "kernelspec": {
   "display_name": "Python 3 (ipykernel)",
   "language": "python",
   "name": "python3"
  },
  "language_info": {
   "codemirror_mode": {
    "name": "ipython",
    "version": 3
   },
   "file_extension": ".py",
   "mimetype": "text/x-python",
   "name": "python",
   "nbconvert_exporter": "python",
   "pygments_lexer": "ipython3",
   "version": "3.9.7"
  }
 },
 "nbformat": 4,
 "nbformat_minor": 5
}
