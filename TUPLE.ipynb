{
 "cells": [
  {
   "cell_type": "markdown",
   "id": "6e5e8c0f",
   "metadata": {},
   "source": [
    "# PYTHON"
   ]
  },
  {
   "cell_type": "markdown",
   "id": "b1863195",
   "metadata": {},
   "source": [
    "# TUPLE"
   ]
  },
  {
   "cell_type": "code",
   "execution_count": 11,
   "id": "4ea671fe",
   "metadata": {
    "scrolled": true
   },
   "outputs": [
    {
     "name": "stdout",
     "output_type": "stream",
     "text": [
      "(1, 2, 3)\n",
      "(1, 2, 3)\n"
     ]
    }
   ],
   "source": [
    "numbers = (1, 2, 3)\n",
    "numbers2 = 1, 2, 3\n",
    "\n",
    "print(numbers)\n",
    "print(numbers2)"
   ]
  },
  {
   "cell_type": "markdown",
   "id": "a7996eb0",
   "metadata": {},
   "source": [
    "# CONCATING TUPLE"
   ]
  },
  {
   "cell_type": "code",
   "execution_count": 12,
   "id": "25bea2a6",
   "metadata": {
    "scrolled": true
   },
   "outputs": [
    {
     "data": {
      "text/plain": [
       "(1, 2, 3, 1, 2, 3)"
      ]
     },
     "execution_count": 12,
     "metadata": {},
     "output_type": "execute_result"
    }
   ],
   "source": [
    "numbers = (1, 2, 3)\n",
    "numbers2 = 1, 2, 3\n",
    "\n",
    "numbers + numbers2"
   ]
  },
  {
   "cell_type": "markdown",
   "id": "8c1bdad5",
   "metadata": {},
   "source": [
    "# Iterate over Tuples"
   ]
  },
  {
   "cell_type": "code",
   "execution_count": 13,
   "id": "514c7309",
   "metadata": {
    "scrolled": true
   },
   "outputs": [
    {
     "name": "stdout",
     "output_type": "stream",
     "text": [
      "TUPLES (1, 2, 3, 1, 2, 3)\n",
      "1\n",
      "2\n",
      "3\n",
      "1\n",
      "2\n",
      "3\n"
     ]
    }
   ],
   "source": [
    "n=numbers+numbers2\n",
    "print(\"TUPLES\",n)\n",
    "for fruit in n:\n",
    "    print(fruit)"
   ]
  },
  {
   "cell_type": "markdown",
   "id": "68a6e9d0",
   "metadata": {},
   "source": [
    "# in, not in"
   ]
  },
  {
   "cell_type": "code",
   "execution_count": 14,
   "id": "853b3aee",
   "metadata": {
    "scrolled": true
   },
   "outputs": [
    {
     "data": {
      "text/plain": [
       "True"
      ]
     },
     "execution_count": 14,
     "metadata": {},
     "output_type": "execute_result"
    }
   ],
   "source": [
    "n= (59, 29, 45, 2, 4, 24, 42, 20, 9)\n",
    "4 in n"
   ]
  },
  {
   "cell_type": "markdown",
   "id": "d72a4f1a",
   "metadata": {},
   "source": [
    "# Multiplication"
   ]
  },
  {
   "cell_type": "code",
   "execution_count": 15,
   "id": "a7e09be1",
   "metadata": {
    "scrolled": true
   },
   "outputs": [
    {
     "data": {
      "text/plain": [
       "(59, 29, 45, 2, 4, 24, 42, 20, 9, 59, 29, 45, 2, 4, 24, 42, 20, 9)"
      ]
     },
     "execution_count": 15,
     "metadata": {},
     "output_type": "execute_result"
    }
   ],
   "source": [
    "n*2"
   ]
  },
  {
   "cell_type": "markdown",
   "id": "dfc07675",
   "metadata": {},
   "source": [
    "# IMMUTABLE"
   ]
  },
  {
   "cell_type": "code",
   "execution_count": 16,
   "id": "a03aaa4e",
   "metadata": {
    "scrolled": true
   },
   "outputs": [
    {
     "ename": "TypeError",
     "evalue": "'tuple' object does not support item assignment",
     "output_type": "error",
     "traceback": [
      "\u001b[1;31m---------------------------------------------------------------------------\u001b[0m",
      "\u001b[1;31mTypeError\u001b[0m                                 Traceback (most recent call last)",
      "\u001b[1;32mC:\\Users\\BHARAT~1\\AppData\\Local\\Temp/ipykernel_2672/70824704.py\u001b[0m in \u001b[0;36m<module>\u001b[1;34m\u001b[0m\n\u001b[0;32m      1\u001b[0m \u001b[0msoft_skills\u001b[0m \u001b[1;33m=\u001b[0m \u001b[1;33m(\u001b[0m\u001b[1;34m\"Communication\"\u001b[0m\u001b[1;33m,\u001b[0m \u001b[1;34m\"Courtesy\"\u001b[0m\u001b[1;33m,\u001b[0m \u001b[1;34m\"Flexibility\"\u001b[0m\u001b[1;33m,\u001b[0m \u001b[1;34m\"Integrity\"\u001b[0m\u001b[1;33m,\u001b[0m \u001b[1;34m\"Responsibility\"\u001b[0m\u001b[1;33m,\u001b[0m \u001b[1;34m\"Flexibility\"\u001b[0m\u001b[1;33m)\u001b[0m\u001b[1;33m\u001b[0m\u001b[1;33m\u001b[0m\u001b[0m\n\u001b[0;32m      2\u001b[0m \u001b[1;33m\u001b[0m\u001b[0m\n\u001b[1;32m----> 3\u001b[1;33m \u001b[0msoft_skills\u001b[0m\u001b[1;33m[\u001b[0m\u001b[1;36m0\u001b[0m\u001b[1;33m]\u001b[0m\u001b[1;33m=\u001b[0m\u001b[1;34m\"Courtesy\"\u001b[0m\u001b[1;33m\u001b[0m\u001b[1;33m\u001b[0m\u001b[0m\n\u001b[0m",
      "\u001b[1;31mTypeError\u001b[0m: 'tuple' object does not support item assignment"
     ]
    }
   ],
   "source": [
    "soft_skills = (\"Communication\", \"Courtesy\", \"Flexibility\", \"Integrity\", \"Responsibility\", \"Flexibility\")\n",
    "\n",
    "soft_skills[0]=\"Courtesy\""
   ]
  },
  {
   "cell_type": "markdown",
   "id": "f1eb493d",
   "metadata": {},
   "source": [
    "# TUPLE FUNCTION"
   ]
  },
  {
   "cell_type": "markdown",
   "id": "58f5befb",
   "metadata": {},
   "source": [
    "# append"
   ]
  },
  {
   "cell_type": "code",
   "execution_count": 17,
   "id": "3778931f",
   "metadata": {
    "scrolled": true
   },
   "outputs": [
    {
     "name": "stdout",
     "output_type": "stream",
     "text": [
      "([0, 1, 'BHARAT'], [0, 1, 'BHARAT'], [0, 1, 'BHARAT'])\n"
     ]
    }
   ],
   "source": [
    "n=[0,1]\n",
    "m=(n,)*3\n",
    "m[0].append(\"BHARAT\")\n",
    "\n",
    "print(m)"
   ]
  },
  {
   "cell_type": "markdown",
   "id": "ddeb5489",
   "metadata": {},
   "source": [
    "# Indexing"
   ]
  },
  {
   "cell_type": "code",
   "execution_count": 18,
   "id": "c7b3f73f",
   "metadata": {
    "scrolled": true
   },
   "outputs": [
    {
     "name": "stdout",
     "output_type": "stream",
     "text": [
      "1\n"
     ]
    }
   ],
   "source": [
    "soft_skills = (\"Communication\", \"Courtesy\", \"Flexibility\", \"Courtesy\", \"Responsibility\")\n",
    "\n",
    "print(soft_skills.index(\"Courtesy\"))"
   ]
  },
  {
   "cell_type": "markdown",
   "id": "b77a128d",
   "metadata": {},
   "source": [
    "# COUNT"
   ]
  },
  {
   "cell_type": "code",
   "execution_count": 19,
   "id": "80f6ab1c",
   "metadata": {
    "scrolled": true
   },
   "outputs": [
    {
     "name": "stdout",
     "output_type": "stream",
     "text": [
      "2\n"
     ]
    }
   ],
   "source": [
    "soft_skills = (\"Communication\", \"Courtesy\", \"Flexibility\", \"Integrity\", \"Responsibility\", \"Flexibility\")\n",
    "print(soft_skills.count(\"Flexibility\"))"
   ]
  },
  {
   "cell_type": "code",
   "execution_count": null,
   "id": "b7c6dc5c",
   "metadata": {
    "scrolled": true
   },
   "outputs": [],
   "source": []
  },
  {
   "cell_type": "markdown",
   "id": "45b7edd4",
   "metadata": {},
   "source": [
    "# WRITE PYTHON PROGRAM TO DICTIONARY"
   ]
  },
  {
   "cell_type": "code",
   "execution_count": null,
   "id": "8a6d99f4",
   "metadata": {
    "scrolled": true
   },
   "outputs": [],
   "source": [
    "a = {\"A\":1,\"C\":3,\"B\":2} \n",
    "for key,value in a.items():\n",
    "    print(key+\" and \"+str(value))"
   ]
  },
  {
   "cell_type": "code",
   "execution_count": null,
   "id": "10eae387",
   "metadata": {
    "scrolled": true
   },
   "outputs": [],
   "source": []
  },
  {
   "cell_type": "markdown",
   "id": "78322eb7",
   "metadata": {},
   "source": [
    "# ONEMARK"
   ]
  },
  {
   "cell_type": "code",
   "execution_count": null,
   "id": "3f019e51",
   "metadata": {
    "scrolled": true
   },
   "outputs": [],
   "source": [
    "1.  d) All the above\n",
    "2.  a) True"
   ]
  },
  {
   "cell_type": "code",
   "execution_count": null,
   "id": "31eff973",
   "metadata": {
    "scrolled": true
   },
   "outputs": [],
   "source": []
  }
 ],
 "metadata": {
  "kernelspec": {
   "display_name": "Python 3 (ipykernel)",
   "language": "python",
   "name": "python3"
  },
  "language_info": {
   "codemirror_mode": {
    "name": "ipython",
    "version": 3
   },
   "file_extension": ".py",
   "mimetype": "text/x-python",
   "name": "python",
   "nbconvert_exporter": "python",
   "pygments_lexer": "ipython3",
   "version": "3.9.7"
  }
 },
 "nbformat": 4,
 "nbformat_minor": 5
}
