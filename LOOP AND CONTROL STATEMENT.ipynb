{
 "cells": [
  {
   "cell_type": "markdown",
   "id": "6e5e8c0f",
   "metadata": {},
   "source": [
    "# PYTHON"
   ]
  },
  {
   "cell_type": "markdown",
   "id": "b1863195",
   "metadata": {},
   "source": [
    "# LOOP AND CONTROL STATEMENT"
   ]
  },
  {
   "cell_type": "code",
   "execution_count": 22,
   "id": "4b873b8a",
   "metadata": {},
   "outputs": [
    {
     "name": "stdout",
     "output_type": "stream",
     "text": [
      "LOOP 0\n",
      "LOOP 1\n",
      "LOOP 2\n",
      "LOOP 3\n",
      "LOOP 4\n"
     ]
    }
   ],
   "source": [
    "for j in range(5):\n",
    "    if j==3:\n",
    "        pass\n",
    "    print(\"LOOP\",j)"
   ]
  },
  {
   "cell_type": "code",
   "execution_count": null,
   "id": "0f3b59cd",
   "metadata": {},
   "outputs": [],
   "source": []
  },
  {
   "cell_type": "code",
   "execution_count": null,
   "id": "75983d05",
   "metadata": {},
   "outputs": [],
   "source": []
  },
  {
   "cell_type": "code",
   "execution_count": null,
   "id": "c3f179ce",
   "metadata": {},
   "outputs": [],
   "source": []
  },
  {
   "cell_type": "code",
   "execution_count": null,
   "id": "0c60660f",
   "metadata": {},
   "outputs": [],
   "source": []
  },
  {
   "cell_type": "code",
   "execution_count": null,
   "id": "4ea671fe",
   "metadata": {},
   "outputs": [],
   "source": []
  },
  {
   "cell_type": "markdown",
   "id": "45b7edd4",
   "metadata": {},
   "source": [
    "# Python program to print first 10 natural numbers"
   ]
  },
  {
   "cell_type": "markdown",
   "id": "9b8ea536",
   "metadata": {},
   "source": [
    "# AGENDA \n",
    "   print : 1 - 10"
   ]
  },
  {
   "cell_type": "code",
   "execution_count": 23,
   "id": "9ae2f450",
   "metadata": {},
   "outputs": [
    {
     "name": "stdout",
     "output_type": "stream",
     "text": [
      "1\n",
      "2\n",
      "3\n",
      "4\n",
      "5\n",
      "6\n",
      "7\n",
      "8\n",
      "9\n",
      "10\n"
     ]
    }
   ],
   "source": [
    "for i in range (1,11):\n",
    "    print(i)"
   ]
  },
  {
   "cell_type": "markdown",
   "id": "78322eb7",
   "metadata": {},
   "source": [
    "# ONEMARK"
   ]
  },
  {
   "cell_type": "code",
   "execution_count": null,
   "id": "3f019e51",
   "metadata": {},
   "outputs": [],
   "source": [
    "1. b) exactly one time\n",
    "2. b) 9"
   ]
  }
 ],
 "metadata": {
  "kernelspec": {
   "display_name": "Python 3 (ipykernel)",
   "language": "python",
   "name": "python3"
  },
  "language_info": {
   "codemirror_mode": {
    "name": "ipython",
    "version": 3
   },
   "file_extension": ".py",
   "mimetype": "text/x-python",
   "name": "python",
   "nbconvert_exporter": "python",
   "pygments_lexer": "ipython3",
   "version": "3.9.7"
  }
 },
 "nbformat": 4,
 "nbformat_minor": 5
}
