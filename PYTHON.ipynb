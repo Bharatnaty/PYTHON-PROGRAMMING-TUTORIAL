{
 "cells": [
  {
   "cell_type": "markdown",
   "id": "6e5e8c0f",
   "metadata": {},
   "source": [
    "# PYTHON"
   ]
  },
  {
   "cell_type": "code",
   "execution_count": null,
   "id": "02b33b49",
   "metadata": {},
   "outputs": [],
   "source": [
    "print(\"BHARAT\")                            "
   ]
  },
  {
   "cell_type": "code",
   "execution_count": null,
   "id": "87c24771",
   "metadata": {},
   "outputs": [],
   "source": [
    "print(\"BHARAT\",\"\\n\")\n",
    "print(\"NATRAYN\")"
   ]
  },
  {
   "cell_type": "code",
   "execution_count": null,
   "id": "4aad4f31",
   "metadata": {},
   "outputs": [],
   "source": [
    "print(5 + 6)"
   ]
  },
  {
   "cell_type": "code",
   "execution_count": null,
   "id": "2807b711",
   "metadata": {},
   "outputs": [],
   "source": [
    "print(5 + 6)\n",
    "print(5 - 6)\n",
    "print(5 * 6)\n",
    "print(5 / 6)"
   ]
  },
  {
   "cell_type": "code",
   "execution_count": null,
   "id": "8a072bdf",
   "metadata": {},
   "outputs": [],
   "source": [
    "print( (5 +  6) * 10 -7  / 20)"
   ]
  },
  {
   "cell_type": "markdown",
   "id": "a24e73d1",
   "metadata": {},
   "source": [
    "# VARIABLE AND DATATYPES"
   ]
  },
  {
   "cell_type": "markdown",
   "id": "3762afa5",
   "metadata": {},
   "source": [
    "<h3>VARIABLES</h3><br>\n",
    "1. it store the different types of datatype<br>\n",
    "2. No need of declaring datatype to variable<br>\n",
    "3. type cast can be done<br>\n",
    "4. case-sensitive"
   ]
  },
  {
   "cell_type": "code",
   "execution_count": null,
   "id": "8a864169",
   "metadata": {},
   "outputs": [],
   "source": [
    "# EXAMPLE 1\n",
    "x = 5           # integer\n",
    "y = \"5\"         # string\n",
    "print(x , type(x))\n",
    "print(y)"
   ]
  },
  {
   "cell_type": "code",
   "execution_count": null,
   "id": "5f32c2d8",
   "metadata": {},
   "outputs": [],
   "source": [
    "# EXAMPLE 2                Typecasting\n",
    "print(\"VALUE\",x)\n",
    "print(\"TYPE\",type(x))\n",
    "print(\"TYPE CASTING: \",str(x))\n",
    "print(\"TYPE \",type(str(x)))"
   ]
  },
  {
   "cell_type": "markdown",
   "id": "d0f237d7",
   "metadata": {},
   "source": [
    "<h1>Datatypes</h1><br>\n",
    "1. string <br>\n",
    "2. integer <br>\n",
    "3. list <br>\n",
    "4. dict <br>\n",
    "5. tuple <br>\n",
    "6. float <br>\n",
    "7. set <br>\n",
    "8. boolean <br>"
   ]
  },
  {
   "cell_type": "code",
   "execution_count": null,
   "id": "cbfd816b",
   "metadata": {},
   "outputs": [],
   "source": [
    "# EXAMPLE STRING\n",
    "x= \" BHARAT \"                      # immutable\n",
    "print(x)"
   ]
  },
  {
   "cell_type": "code",
   "execution_count": null,
   "id": "0f3227c6",
   "metadata": {},
   "outputs": [],
   "source": [
    "# integer\n",
    "x = 5\n",
    "print(x)"
   ]
  },
  {
   "cell_type": "code",
   "execution_count": null,
   "id": "8a8d4e1d",
   "metadata": {},
   "outputs": [],
   "source": [
    "# list                             # store different datatypes , index no start with 0 , mutable\n",
    "x = [5,\"BHARAT\",6.0]\n",
    "print(x)"
   ]
  },
  {
   "cell_type": "code",
   "execution_count": null,
   "id": "8b0a1bd3",
   "metadata": {},
   "outputs": [],
   "source": [
    "# dict                             # use keyword and values , to access the value use keywords\n",
    "x = {\"x\":1 ,\"Y\":2 , 3:\"9\"}\n",
    "print(x[3])"
   ]
  },
  {
   "cell_type": "code",
   "execution_count": null,
   "id": "32d2b872",
   "metadata": {},
   "outputs": [],
   "source": [
    "# tuple                            # immutable , index no start with 0\n",
    "x = (5,\"BHARAT\",6.0)\n",
    "print(x[2])"
   ]
  },
  {
   "cell_type": "code",
   "execution_count": null,
   "id": "6d1d0c8f",
   "metadata": {},
   "outputs": [],
   "source": [
    "# set                              it does not take repeated values\n",
    "x = {5,5,7,8,9,10}\n",
    "print(x)"
   ]
  },
  {
   "cell_type": "code",
   "execution_count": null,
   "id": "2a5c78c5",
   "metadata": {},
   "outputs": [],
   "source": []
  }
 ],
 "metadata": {
  "kernelspec": {
   "display_name": "Python 3 (ipykernel)",
   "language": "python",
   "name": "python3"
  },
  "language_info": {
   "codemirror_mode": {
    "name": "ipython",
    "version": 3
   },
   "file_extension": ".py",
   "mimetype": "text/x-python",
   "name": "python",
   "nbconvert_exporter": "python",
   "pygments_lexer": "ipython3",
   "version": "3.9.7"
  }
 },
 "nbformat": 4,
 "nbformat_minor": 5
}
