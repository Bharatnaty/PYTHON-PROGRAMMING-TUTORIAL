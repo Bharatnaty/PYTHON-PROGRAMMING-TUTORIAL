{
 "cells": [
  {
   "cell_type": "markdown",
   "id": "6e5e8c0f",
   "metadata": {},
   "source": [
    "# PYTHON"
   ]
  },
  {
   "cell_type": "markdown",
   "id": "b1863195",
   "metadata": {},
   "source": [
    "# EXCEPTION HANDLING"
   ]
  },
  {
   "cell_type": "code",
   "execution_count": 1,
   "id": "d287eebe",
   "metadata": {},
   "outputs": [
    {
     "name": "stdout",
     "output_type": "stream",
     "text": [
      "no error  1\n"
     ]
    }
   ],
   "source": [
    "list1=[1,2,3]\n",
    "try:\n",
    "    print(\"no error \",list1[0])\n",
    "    \n",
    "except:\n",
    "    print(\"ERROR\")"
   ]
  },
  {
   "cell_type": "code",
   "execution_count": 2,
   "id": "6806aa5d",
   "metadata": {},
   "outputs": [
    {
     "name": "stdout",
     "output_type": "stream",
     "text": [
      "ERROR\n"
     ]
    }
   ],
   "source": [
    "### with error\n",
    "\n",
    "try:\n",
    "    print(\"no error \",list1[9])\n",
    "    \n",
    "except:\n",
    "    print(\"ERROR\")"
   ]
  },
  {
   "cell_type": "code",
   "execution_count": 5,
   "id": "75983d05",
   "metadata": {},
   "outputs": [
    {
     "name": "stdout",
     "output_type": "stream",
     "text": [
      "INDEX\n"
     ]
    }
   ],
   "source": [
    "## use multiple except \n",
    "\n",
    "try:\n",
    "    print(\"no error \",list1[9])\n",
    "    \n",
    "except IndexError:\n",
    "    print(\"INDEX\")\n",
    "    \n",
    "except:\n",
    "    print(\"ERROR\")"
   ]
  },
  {
   "cell_type": "code",
   "execution_count": 4,
   "id": "c3f179ce",
   "metadata": {},
   "outputs": [
    {
     "name": "stdout",
     "output_type": "stream",
     "text": [
      "no error  1\n"
     ]
    }
   ],
   "source": [
    "# use raise\n",
    "try:\n",
    "    print(\"no error \",list1[0])\n",
    "    \n",
    "except:\n",
    "    raise"
   ]
  },
  {
   "cell_type": "code",
   "execution_count": 6,
   "id": "0c60660f",
   "metadata": {},
   "outputs": [
    {
     "name": "stdout",
     "output_type": "stream",
     "text": [
      "no error  1\n",
      "IT RUN DEFINETLY\n"
     ]
    }
   ],
   "source": [
    "### use finally\n",
    "try:\n",
    "    print(\"no error \",list1[0])\n",
    "    \n",
    "except:\n",
    "    print(\"ERROR\")\n",
    "    \n",
    "finally:\n",
    "    print(\"IT RUN DEFINETLY\")"
   ]
  },
  {
   "cell_type": "code",
   "execution_count": null,
   "id": "4ea671fe",
   "metadata": {},
   "outputs": [],
   "source": []
  },
  {
   "cell_type": "markdown",
   "id": "45b7edd4",
   "metadata": {},
   "source": [
    "# exception handling"
   ]
  },
  {
   "cell_type": "code",
   "execution_count": null,
   "id": "9ae2f450",
   "metadata": {},
   "outputs": [],
   "source": [
    "list1=[4,5,6]\n",
    "try:\n",
    "    print(\"no error \",list1[0])\n",
    "    \n",
    "except:\n",
    "    print(\"ERROR\")"
   ]
  },
  {
   "cell_type": "markdown",
   "id": "78322eb7",
   "metadata": {},
   "source": [
    "# ONEMARK"
   ]
  },
  {
   "cell_type": "code",
   "execution_count": null,
   "id": "3f019e51",
   "metadata": {},
   "outputs": [],
   "source": [
    "1. d) more than zero\n",
    "2. d)yes"
   ]
  },
  {
   "cell_type": "code",
   "execution_count": null,
   "id": "31eff973",
   "metadata": {},
   "outputs": [],
   "source": []
  }
 ],
 "metadata": {
  "kernelspec": {
   "display_name": "Python 3 (ipykernel)",
   "language": "python",
   "name": "python3"
  },
  "language_info": {
   "codemirror_mode": {
    "name": "ipython",
    "version": 3
   },
   "file_extension": ".py",
   "mimetype": "text/x-python",
   "name": "python",
   "nbconvert_exporter": "python",
   "pygments_lexer": "ipython3",
   "version": "3.9.7"
  }
 },
 "nbformat": 4,
 "nbformat_minor": 5
}
